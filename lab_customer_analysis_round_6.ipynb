{
  "nbformat": 4,
  "nbformat_minor": 0,
  "metadata": {
    "colab": {
      "provenance": [],
      "mount_file_id": "1iTrqS4u6Oq2K7s3tKcxR0XwqnicXjYKS",
      "authorship_tag": "ABX9TyPBZZPG76+A080xeESUsmR6",
      "include_colab_link": true
    },
    "kernelspec": {
      "name": "python3",
      "display_name": "Python 3"
    },
    "language_info": {
      "name": "python"
    }
  },
  "cells": [
    {
      "cell_type": "markdown",
      "metadata": {
        "id": "view-in-github",
        "colab_type": "text"
      },
      "source": [
        "<a href=\"https://colab.research.google.com/github/sabinamunoz/lab-customer-analysis-round-6/blob/master/lab_customer_analysis_round_6.ipynb\" target=\"_parent\"><img src=\"https://colab.research.google.com/assets/colab-badge.svg\" alt=\"Open In Colab\"/></a>"
      ]
    },
    {
      "cell_type": "markdown",
      "source": [
        "###**Processing Data**\n",
        "\n",
        "1. Train-test split.: X-y split.\n",
        "\n",
        "2. Feature scaling - Normalize (numerical).\n",
        "\n"
      ],
      "metadata": {
        "id": "qlSdIfnp7rzI"
      }
    },
    {
      "cell_type": "code",
      "execution_count": null,
      "metadata": {
        "id": "W46yJ-hRUClw"
      },
      "outputs": [],
      "source": [
        "import numpy as np\n",
        "import pandas as pd\n",
        "import seaborn as sns\n",
        "from scipy import stats\n",
        "import matplotlib.pyplot as plt\n",
        "from sklearn.linear_model import LinearRegression\n",
        "from sklearn.model_selection import train_test_split\n",
        "from sklearn.preprocessing import OneHotEncoder, Normalizer, StandardScaler\n",
        "from sklearn.metrics import mean_squared_error, r2_score, mean_absolute_error\n",
        "import statsmodels.api as sm\n",
        "from statsmodels.formula.api import ols\n"
      ]
    },
    {
      "cell_type": "code",
      "source": [
        "from google.colab import drive"
      ],
      "metadata": {
        "id": "IuryeTj5Ubxm"
      },
      "execution_count": null,
      "outputs": []
    },
    {
      "cell_type": "code",
      "source": [
        "drive.mount('/content/drive')"
      ],
      "metadata": {
        "colab": {
          "base_uri": "https://localhost:8080/"
        },
        "id": "scjM1ZTOUeea",
        "outputId": "101a937f-1343-472f-cc6b-e14a21aefb33"
      },
      "execution_count": null,
      "outputs": [
        {
          "output_type": "stream",
          "name": "stdout",
          "text": [
            "Mounted at /content/drive\n"
          ]
        }
      ]
    },
    {
      "cell_type": "code",
      "source": [
        "data = pd.read_csv('/content/drive/MyDrive/IronHack Bootcamp/UNIT1/LABS/LAB7/marketing_customer_analysis.csv', sep=',').reset_index(drop=True)"
      ],
      "metadata": {
        "id": "P4IVIb7NVCIN"
      },
      "execution_count": null,
      "outputs": []
    },
    {
      "cell_type": "code",
      "source": [
        "data.columns = [column.lower().replace(' ', '_') for column in data.columns]"
      ],
      "metadata": {
        "id": "3zWZuE0Pzmzu"
      },
      "execution_count": null,
      "outputs": []
    },
    {
      "cell_type": "markdown",
      "source": [
        "**1. Train-test split.: X-y split.**"
      ],
      "metadata": {
        "id": "Jd_7OZIY6d5g"
      }
    },
    {
      "cell_type": "code",
      "source": [
        "x = data.drop([\"customer\", \"total_claim_amount\", 'effective_to_date'], axis=1)\n",
        "y = data[\"total_claim_amount\"]"
      ],
      "metadata": {
        "id": "nwtBL43X6nHo"
      },
      "execution_count": null,
      "outputs": []
    },
    {
      "cell_type": "markdown",
      "source": [
        "\n",
        "**2. Feature scaling - Normalize (numerical).**\n"
      ],
      "metadata": {
        "id": "m0gvJmN87DOR"
      }
    },
    {
      "cell_type": "code",
      "source": [
        "x_num = x.select_dtypes(np.number)\n",
        "\n",
        "scaler = StandardScaler()\n",
        "scaler.fit(x_num)\n",
        "x_num_scaled = scaler.transform(x_num)\n",
        "\n",
        "x_num_scaled = pd.DataFrame(x_num_scaled, columns = x_num.columns)"
      ],
      "metadata": {
        "id": "A2szOZwG7KHi"
      },
      "execution_count": null,
      "outputs": []
    },
    {
      "cell_type": "markdown",
      "source": [
        "###**Lab | Customer Analysis Round 6**"
      ],
      "metadata": {
        "id": "xlpy9B_NKEp4"
      }
    },
    {
      "cell_type": "markdown",
      "source": [
        "###**Processing Data**\n",
        "\n",
        "1. Train-test split.: X-y split. (DONE)\n",
        "\n",
        "2. Feature scaling - Normalize (numerical). (DONE)\n",
        "\n",
        "3. One Hot/Label Encoding (categorical).\n",
        "\n",
        "4. Concat DataFrames\n",
        "\n",
        "###**Linear Regression**\n",
        "* Train-test split.\n",
        "* Apply linear regression.\n",
        "\n",
        "###**Model Validation**\n",
        "Description:\n",
        "\n",
        "* R2.\n",
        "* MSE.\n",
        "* RMSE.\n",
        "* MAE.\n",
        "\n",
        "\n"
      ],
      "metadata": {
        "id": "6ntM8uWtKYEL"
      }
    },
    {
      "cell_type": "markdown",
      "source": [
        "**3. One Hot/Label Encoding (categorical).**"
      ],
      "metadata": {
        "id": "FUuDJQdPL39p"
      }
    },
    {
      "cell_type": "code",
      "source": [
        "x_cat = x.select_dtypes('object')\n",
        "\n",
        "encoder = OneHotEncoder(drop='first')\n",
        "encoder.fit(x_cat)\n",
        "\n",
        "cols = []\n",
        "for i in range(len(encoder.categories_)):\n",
        "    cols += list(encoder.categories_[i])[1:]\n",
        "\n",
        "og_cols = len(x_cat.columns)\n",
        "x_cat[cols] = encoder.transform(x_cat).todense()\n",
        "x_cat = x_cat.drop(x_cat.columns[:og_cols], axis=1)"
      ],
      "metadata": {
        "id": "VliAz7ymL9XW"
      },
      "execution_count": 13,
      "outputs": []
    },
    {
      "cell_type": "markdown",
      "source": [
        "**4. Concat DataFrames**"
      ],
      "metadata": {
        "id": "F1z1AzoZMMKA"
      }
    },
    {
      "cell_type": "code",
      "source": [
        "x_concat = pd.concat([x_num_scaled, x_cat], axis=1)"
      ],
      "metadata": {
        "id": "nHgb5tCeMA6s"
      },
      "execution_count": 14,
      "outputs": []
    },
    {
      "cell_type": "markdown",
      "source": [
        "* **Train-test split.**"
      ],
      "metadata": {
        "id": "xjCC-PAaMkM5"
      }
    },
    {
      "cell_type": "code",
      "source": [
        "x_train, x_test, y_train, y_test = train_test_split(x_concat, y, test_size=0.3, random_state=42)"
      ],
      "metadata": {
        "id": "o3CLtD7OMsaf"
      },
      "execution_count": 15,
      "outputs": []
    },
    {
      "cell_type": "markdown",
      "source": [
        "* **Apply linear regression.**"
      ],
      "metadata": {
        "id": "nvpQyvQlMyJ6"
      }
    },
    {
      "cell_type": "code",
      "source": [
        "lm = LinearRegression()\n",
        "lm.fit(x_train, y_train)\n",
        "\n",
        "predictions = lm.predict(x_test)"
      ],
      "metadata": {
        "id": "4YuHlWhuM8t3"
      },
      "execution_count": 16,
      "outputs": []
    },
    {
      "cell_type": "markdown",
      "source": [
        "**Model Validation**"
      ],
      "metadata": {
        "id": "1BuwUhYiNJWf"
      }
    },
    {
      "cell_type": "code",
      "source": [
        "\n",
        "print(\"R2_score:\", round(r2_score(y_test, predictions), 2))\n",
        "\n",
        "mse = mean_squared_error(y_test, predictions)\n",
        "print(\"MSE:\", mse)\n",
        "\n",
        "rmse = mean_squared_error(y_test, predictions, squared=False)\n",
        "print(\"RMSE:\", rmse)\n",
        "\n",
        "mae = mean_absolute_error(y_test, predictions)\n",
        "print(\"MAE:\", mae)"
      ],
      "metadata": {
        "colab": {
          "base_uri": "https://localhost:8080/"
        },
        "id": "8sYa7NFuNF9G",
        "outputId": "e15dbe37-107c-43ee-e275-5aea46f272e1"
      },
      "execution_count": 17,
      "outputs": [
        {
          "output_type": "stream",
          "name": "stdout",
          "text": [
            "R2_score: 0.77\n",
            "MSE: 19182.50869311365\n",
            "RMSE: 138.5009339070089\n",
            "MAE: 94.522728168012\n"
          ]
        }
      ]
    }
  ]
}